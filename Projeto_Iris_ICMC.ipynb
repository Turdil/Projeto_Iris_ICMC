{
  "nbformat": 4,
  "nbformat_minor": 0,
  "metadata": {
    "colab": {
      "provenance": [],
      "mount_file_id": "1Qavwz-xgwPp9TrVFRJYRwk8g25IdQxsw",
      "authorship_tag": "ABX9TyMxt4lQE/hSTmtEZTEi1uDV",
      "include_colab_link": true
    },
    "kernelspec": {
      "name": "python3",
      "display_name": "Python 3"
    },
    "language_info": {
      "name": "python"
    }
  },
  "cells": [
    {
      "cell_type": "markdown",
      "metadata": {
        "id": "view-in-github",
        "colab_type": "text"
      },
      "source": [
        "<a href=\"https://colab.research.google.com/github/Turdil/Projeto_Iris_ICMC/blob/main/Projeto_Iris_ICMC.ipynb\" target=\"_parent\"><img src=\"https://colab.research.google.com/assets/colab-badge.svg\" alt=\"Open In Colab\"/></a>"
      ]
    },
    {
      "cell_type": "code",
      "execution_count": 1,
      "metadata": {
        "id": "owXVXJWTF_jb"
      },
      "outputs": [],
      "source": [
        "import pandas as pd\n",
        "from sklearn.model_selection import train_test_split\n",
        "from sklearn.linear_model import LogisticRegression\n",
        "from sklearn.svm import SVC\n",
        "from sklearn.metrics import accuracy_score, classification_report, confusion_matrix\n"
      ]
    },
    {
      "cell_type": "code",
      "source": [
        " #Classe para carregar e preparar os dados\n",
        "class DataPreparation:\n",
        "    def __init__(self, file_path):\n",
        "        self.data = pd.read_csv('/content/drive/MyDrive/Curso_USP_dataICMC/novodataIris.txt', header=None)\n",
        "        self.data.columns = ['SepalLength', 'SepalWidth', 'PetalLength', 'PetalWidth', 'Species']\n",
        "\n",
        "    def prepare_data(self):\n",
        "        X = self.data[['SepalLength', 'SepalWidth', 'PetalLength', 'PetalWidth']]\n",
        "        y = self.data['Species']\n",
        "        X_train, X_test, y_train, y_test = train_test_split(X, y, test_size=0.2, random_state=42)\n",
        "        return X_train, X_test, y_train, y_test"
      ],
      "metadata": {
        "id": "APkBvUBPGSc7"
      },
      "execution_count": 2,
      "outputs": []
    },
    {
      "cell_type": "code",
      "source": [
        "# Classe para treinar e avaliar modelos de classificação\n",
        "class ModelTraining:\n",
        "    def __init__(self, X_train, X_test, y_train, y_test):\n",
        "        self.X_train = X_train\n",
        "        self.X_test = X_test\n",
        "        self.y_train = y_train\n",
        "        self.y_test = y_test\n",
        "\n",
        "    def train_logistic_regression(self):\n",
        "        lr_model = LogisticRegression(max_iter=200)\n",
        "        lr_model.fit(self.X_train, self.y_train)\n",
        "        return lr_model\n",
        "\n",
        "    def train_svm(self):\n",
        "        svm_model = SVC(kernel='linear')\n",
        "        svm_model.fit(self.X_train, self.y_train)\n",
        "        return svm_model\n",
        "\n",
        "    def evaluate_model(self, model):\n",
        "        y_pred = model.predict(self.X_test)\n",
        "        accuracy = accuracy_score(self.y_test, y_pred)\n",
        "        report = classification_report(self.y_test, y_pred)\n",
        "        matrix = confusion_matrix(self.y_test, y_pred)\n",
        "        return accuracy, report, matrix"
      ],
      "metadata": {
        "id": "XEOSt3rxG5xr"
      },
      "execution_count": 3,
      "outputs": []
    },
    {
      "cell_type": "code",
      "source": [
        "# Classe para fazer previsões com novos dados\n",
        "class Prediction:\n",
        "    def __init__(self, model):\n",
        "        self.model = model\n",
        "\n",
        "    def predict(self, new_data):\n",
        "        prediction = self.model.predict(new_data)\n",
        "        return prediction[0]"
      ],
      "metadata": {
        "id": "KR_GfrXaG-yo"
      },
      "execution_count": 4,
      "outputs": []
    },
    {
      "cell_type": "code",
      "source": [
        "# Fluxo principal\n",
        "if __name__ == \"__main__\":\n",
        "    # Carrega e prepara os dados\n",
        "    data_prep = DataPreparation('/content/drive/MyDrive/Curso_USP_dataICMC/novodataIris.txt')\n",
        "    X_train, X_test, y_train, y_test = data_prep.prepare_data()\n",
        "\n",
        "    # Inicializa o objeto de treinamento de modelos\n",
        "    model_trainer = ModelTraining(X_train, X_test, y_train, y_test)\n",
        "\n",
        "    # Treina e avalia o modelo de Regressão Logística\n",
        "    lr_model = model_trainer.train_logistic_regression()\n",
        "    lr_accuracy, lr_report, lr_matrix = model_trainer.evaluate_model(lr_model)\n",
        "    print(\"Modelo: Regressão Logística\")\n",
        "    print(f\"Acurácia: {lr_accuracy * 100:.2f}%\")\n",
        "    print(\"Relatório de Classificação:\\n\", lr_report)\n",
        "    print(\"Matriz de Confusão:\\n\", lr_matrix)\n",
        "\n",
        "     # Treina e avalia o modelo SVM\n",
        "    svm_model = model_trainer.train_svm()\n",
        "    svm_accuracy, svm_report, svm_matrix = model_trainer.evaluate_model(svm_model)\n",
        "    print(\"\\nModelo: SVM\")\n",
        "    print(f\"Acurácia: {svm_accuracy * 100:.2f}%\")\n",
        "    print(\"Relatório de Classificação:\\n\", svm_report)\n",
        "    print(\"Matriz de Confusão:\\n\", svm_matrix)\n",
        "\n",
        "    # Compara os resultados e faz uma previsão com o modelo de melhor desempenho\n",
        "    best_model = lr_model if lr_accuracy > svm_accuracy else svm_model\n",
        "    prediction = Prediction(best_model)\n",
        "    novo_exemplo = [[5.7, 2.8, 4.1, 1.3]]\n",
        "    predicted_class = prediction.predict(novo_exemplo)\n",
        "    print(\"\\nPrevisão para o novo exemplo:\", predicted_class)\n"
      ],
      "metadata": {
        "colab": {
          "base_uri": "https://localhost:8080/"
        },
        "id": "hfoXpJrWHFZQ",
        "outputId": "40d4e8e5-ed50-47e9-d2ba-049ca827b47b"
      },
      "execution_count": 5,
      "outputs": [
        {
          "output_type": "stream",
          "name": "stdout",
          "text": [
            "Modelo: Regressão Logística\n",
            "Acurácia: 100.00%\n",
            "Relatório de Classificação:\n",
            "                  precision    recall  f1-score   support\n",
            "\n",
            "    Iris-setosa       1.00      1.00      1.00        10\n",
            "Iris-versicolor       1.00      1.00      1.00         9\n",
            " Iris-virginica       1.00      1.00      1.00        11\n",
            "\n",
            "       accuracy                           1.00        30\n",
            "      macro avg       1.00      1.00      1.00        30\n",
            "   weighted avg       1.00      1.00      1.00        30\n",
            "\n",
            "Matriz de Confusão:\n",
            " [[10  0  0]\n",
            " [ 0  9  0]\n",
            " [ 0  0 11]]\n",
            "\n",
            "Modelo: SVM\n",
            "Acurácia: 100.00%\n",
            "Relatório de Classificação:\n",
            "                  precision    recall  f1-score   support\n",
            "\n",
            "    Iris-setosa       1.00      1.00      1.00        10\n",
            "Iris-versicolor       1.00      1.00      1.00         9\n",
            " Iris-virginica       1.00      1.00      1.00        11\n",
            "\n",
            "       accuracy                           1.00        30\n",
            "      macro avg       1.00      1.00      1.00        30\n",
            "   weighted avg       1.00      1.00      1.00        30\n",
            "\n",
            "Matriz de Confusão:\n",
            " [[10  0  0]\n",
            " [ 0  9  0]\n",
            " [ 0  0 11]]\n",
            "\n",
            "Previsão para o novo exemplo: Iris-versicolor\n"
          ]
        },
        {
          "output_type": "stream",
          "name": "stderr",
          "text": [
            "/usr/local/lib/python3.10/dist-packages/sklearn/base.py:493: UserWarning: X does not have valid feature names, but SVC was fitted with feature names\n",
            "  warnings.warn(\n"
          ]
        }
      ]
    }
  ]
}